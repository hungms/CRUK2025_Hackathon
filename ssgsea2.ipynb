{
 "cells": [
  {
   "cell_type": "raw",
   "metadata": {
    "vscode": {
     "languageId": "raw"
    }
   },
   "source": [
    "---\n",
    "title: \"Risk Classification with ssGSEA\"\n",
    "author: \n",
    "    - name: \"Matthew Hung\"\n",
    "date: last-modified\n",
    "date-format: iso\n",
    "format:\n",
    "    html:\n",
    "        theme: flatly\n",
    "        code-fold: show\n",
    "        code-tools: true\n",
    "        code-line-numbers: true\n",
    "        toc: true\n",
    "        toc-expand: 1\n",
    "        number-sections: true\n",
    "        number-offset: 3\n",
    "        smooth-scroll: true\n",
    "---"
   ]
  },
  {
   "cell_type": "markdown",
   "metadata": {},
   "source": [
    "## Actions\n",
    "We will now use the gene signatures to classify patients into low/high groups. This is done by:\n",
    "\n",
    "* ssGSEA of gene sigature\n",
    "* splitting the score into 200 intervals and selecting the optimal cox-regression p value cutoff"
   ]
  },
  {
   "cell_type": "markdown",
   "metadata": {
    "vscode": {
     "languageId": "r"
    }
   },
   "source": [
    "## Format data for ssGSEA"
   ]
  },
  {
   "cell_type": "code",
   "execution_count": 1,
   "metadata": {
    "vscode": {
     "languageId": "r"
    }
   },
   "outputs": [
    {
     "name": "stderr",
     "output_type": "stream",
     "text": [
      "── \u001b[1mAttaching core tidyverse packages\u001b[22m ──────────────────────── tidyverse 2.0.0 ──\n",
      "\u001b[32m✔\u001b[39m \u001b[34mdplyr    \u001b[39m 1.1.4     \u001b[32m✔\u001b[39m \u001b[34mreadr    \u001b[39m 2.1.4\n",
      "\u001b[32m✔\u001b[39m \u001b[34mforcats  \u001b[39m 1.0.0     \u001b[32m✔\u001b[39m \u001b[34mstringr  \u001b[39m 1.5.0\n",
      "\u001b[32m✔\u001b[39m \u001b[34mggplot2  \u001b[39m 3.5.1     \u001b[32m✔\u001b[39m \u001b[34mtibble   \u001b[39m 3.2.1\n",
      "\u001b[32m✔\u001b[39m \u001b[34mlubridate\u001b[39m 1.9.3     \u001b[32m✔\u001b[39m \u001b[34mtidyr    \u001b[39m 1.3.0\n",
      "\u001b[32m✔\u001b[39m \u001b[34mpurrr    \u001b[39m 1.0.2     \n",
      "── \u001b[1mConflicts\u001b[22m ────────────────────────────────────────── tidyverse_conflicts() ──\n",
      "\u001b[31m✖\u001b[39m \u001b[34mdplyr\u001b[39m::\u001b[32mfilter()\u001b[39m masks \u001b[34mstats\u001b[39m::filter()\n",
      "\u001b[31m✖\u001b[39m \u001b[34mdplyr\u001b[39m::\u001b[32mlag()\u001b[39m    masks \u001b[34mstats\u001b[39m::lag()\n",
      "\u001b[36mℹ\u001b[39m Use the conflicted package (\u001b[3m\u001b[34m<http://conflicted.r-lib.org/>\u001b[39m\u001b[23m) to force all conflicts to become errors\n",
      "Loading required package: MatrixGenerics\n",
      "\n",
      "Loading required package: matrixStats\n",
      "\n",
      "\n",
      "Attaching package: ‘matrixStats’\n",
      "\n",
      "\n",
      "The following object is masked from ‘package:dplyr’:\n",
      "\n",
      "    count\n",
      "\n",
      "\n",
      "\n",
      "Attaching package: ‘MatrixGenerics’\n",
      "\n",
      "\n",
      "The following objects are masked from ‘package:matrixStats’:\n",
      "\n",
      "    colAlls, colAnyNAs, colAnys, colAvgsPerRowSet, colCollapse,\n",
      "    colCounts, colCummaxs, colCummins, colCumprods, colCumsums,\n",
      "    colDiffs, colIQRDiffs, colIQRs, colLogSumExps, colMadDiffs,\n",
      "    colMads, colMaxs, colMeans2, colMedians, colMins, colOrderStats,\n",
      "    colProds, colQuantiles, colRanges, colRanks, colSdDiffs, colSds,\n",
      "    colSums2, colTabulates, colVarDiffs, colVars, colWeightedMads,\n",
      "    colWeightedMeans, colWeightedMedians, colWeightedSds,\n",
      "    colWeightedVars, rowAlls, rowAnyNAs, rowAnys, rowAvgsPerColSet,\n",
      "    rowCollapse, rowCounts, rowCummaxs, rowCummins, rowCumprods,\n",
      "    rowCumsums, rowDiffs, rowIQRDiffs, rowIQRs, rowLogSumExps,\n",
      "    rowMadDiffs, rowMads, rowMaxs, rowMeans2, rowMedians, rowMins,\n",
      "    rowOrderStats, rowProds, rowQuantiles, rowRanges, rowRanks,\n",
      "    rowSdDiffs, rowSds, rowSums2, rowTabulates, rowVarDiffs, rowVars,\n",
      "    rowWeightedMads, rowWeightedMeans, rowWeightedMedians,\n",
      "    rowWeightedSds, rowWeightedVars\n",
      "\n",
      "\n",
      "Loading required package: GenomicRanges\n",
      "\n",
      "Loading required package: stats4\n",
      "\n",
      "Loading required package: BiocGenerics\n",
      "\n",
      "\n",
      "Attaching package: ‘BiocGenerics’\n",
      "\n",
      "\n",
      "The following objects are masked from ‘package:lubridate’:\n",
      "\n",
      "    intersect, setdiff, union\n",
      "\n",
      "\n",
      "The following objects are masked from ‘package:dplyr’:\n",
      "\n",
      "    combine, intersect, setdiff, union\n",
      "\n",
      "\n",
      "The following objects are masked from ‘package:stats’:\n",
      "\n",
      "    IQR, mad, sd, var, xtabs\n",
      "\n",
      "\n",
      "The following objects are masked from ‘package:base’:\n",
      "\n",
      "    anyDuplicated, aperm, append, as.data.frame, basename, cbind,\n",
      "    colnames, dirname, do.call, duplicated, eval, evalq, Filter, Find,\n",
      "    get, grep, grepl, intersect, is.unsorted, lapply, Map, mapply,\n",
      "    match, mget, order, paste, pmax, pmax.int, pmin, pmin.int,\n",
      "    Position, rank, rbind, Reduce, rownames, sapply, setdiff, sort,\n",
      "    table, tapply, union, unique, unsplit, which.max, which.min\n",
      "\n",
      "\n",
      "Loading required package: S4Vectors\n",
      "\n",
      "\n",
      "Attaching package: ‘S4Vectors’\n",
      "\n",
      "\n",
      "The following objects are masked from ‘package:lubridate’:\n",
      "\n",
      "    second, second<-\n",
      "\n",
      "\n",
      "The following objects are masked from ‘package:dplyr’:\n",
      "\n",
      "    first, rename\n",
      "\n",
      "\n",
      "The following object is masked from ‘package:tidyr’:\n",
      "\n",
      "    expand\n",
      "\n",
      "\n",
      "The following object is masked from ‘package:utils’:\n",
      "\n",
      "    findMatches\n",
      "\n",
      "\n",
      "The following objects are masked from ‘package:base’:\n",
      "\n",
      "    expand.grid, I, unname\n",
      "\n",
      "\n",
      "Loading required package: IRanges\n",
      "\n",
      "\n",
      "Attaching package: ‘IRanges’\n",
      "\n",
      "\n",
      "The following object is masked from ‘package:lubridate’:\n",
      "\n",
      "    %within%\n",
      "\n",
      "\n",
      "The following objects are masked from ‘package:dplyr’:\n",
      "\n",
      "    collapse, desc, slice\n",
      "\n",
      "\n",
      "The following object is masked from ‘package:purrr’:\n",
      "\n",
      "    reduce\n",
      "\n",
      "\n",
      "Loading required package: GenomeInfoDb\n",
      "\n",
      "Loading required package: Biobase\n",
      "\n",
      "Welcome to Bioconductor\n",
      "\n",
      "    Vignettes contain introductory material; view with\n",
      "    'browseVignettes()'. To cite Bioconductor, see\n",
      "    'citation(\"Biobase\")', and for packages 'citation(\"pkgname\")'.\n",
      "\n",
      "\n",
      "\n",
      "Attaching package: ‘Biobase’\n",
      "\n",
      "\n",
      "The following object is masked from ‘package:MatrixGenerics’:\n",
      "\n",
      "    rowMedians\n",
      "\n",
      "\n",
      "The following objects are masked from ‘package:matrixStats’:\n",
      "\n",
      "    anyMissing, rowMedians\n",
      "\n",
      "\n",
      "Loading required package: Matrix\n",
      "\n",
      "\n",
      "Attaching package: ‘Matrix’\n",
      "\n",
      "\n",
      "The following object is masked from ‘package:S4Vectors’:\n",
      "\n",
      "    expand\n",
      "\n",
      "\n",
      "The following objects are masked from ‘package:tidyr’:\n",
      "\n",
      "    expand, pack, unpack\n",
      "\n",
      "\n",
      "Loaded glmnet 4.1-8\n",
      "\n"
     ]
    }
   ],
   "source": [
    "# processed on NEMO so far\n",
    "set.seed(42)\n",
    "library(tidyverse)\n",
    "library(SummarizedExperiment)\n",
    "library(readxl)\n",
    "library(glmnet)\n",
    "library(survival)\n",
    "setwd(\"/camp/home/hungm/scratch/hungm/matthew/MH_Hackathon/2025_CRUK/data/TCGA2/0_raw\")"
   ]
  },
  {
   "cell_type": "code",
   "execution_count": 2,
   "metadata": {
    "vscode": {
     "languageId": "r"
    }
   },
   "outputs": [],
   "source": [
    "source(\"/camp/home/hungm/working/Matthew/library/R/functions/coxph/coxph.R\")"
   ]
  },
  {
   "cell_type": "code",
   "execution_count": 3,
   "metadata": {
    "vscode": {
     "languageId": "r"
    }
   },
   "outputs": [
    {
     "data": {
      "text/html": [
       "<table class=\"dataframe\">\n",
       "<caption>A data.frame: 5 × 5</caption>\n",
       "<thead>\n",
       "\t<tr><th></th><th scope=col>TCGA-05-4244</th><th scope=col>TCGA-05-4249</th><th scope=col>TCGA-05-4250</th><th scope=col>TCGA-05-4382</th><th scope=col>TCGA-05-4384</th></tr>\n",
       "\t<tr><th></th><th scope=col>&lt;dbl&gt;</th><th scope=col>&lt;dbl&gt;</th><th scope=col>&lt;dbl&gt;</th><th scope=col>&lt;dbl&gt;</th><th scope=col>&lt;dbl&gt;</th></tr>\n",
       "</thead>\n",
       "<tbody>\n",
       "\t<tr><th scope=row>A1BG</th><td>  26.0302</td><td>  120.1350</td><td>   50.8597</td><td>  145.904</td><td>  127.3670</td></tr>\n",
       "\t<tr><th scope=row>A1CF</th><td>   0.0000</td><td>    0.3220</td><td>    0.0000</td><td>    0.000</td><td>    0.0000</td></tr>\n",
       "\t<tr><th scope=row>A2BP1</th><td>   1.7454</td><td>    1.6098</td><td>    0.0000</td><td>    0.000</td><td>    0.0000</td></tr>\n",
       "\t<tr><th scope=row>A2LD1</th><td> 135.5020</td><td>   89.0629</td><td>  151.1330</td><td>  112.069</td><td>   87.5748</td></tr>\n",
       "\t<tr><th scope=row>A2M</th><td>9844.7900</td><td>25712.7000</td><td>16943.6000</td><td>23326.300</td><td>48314.6000</td></tr>\n",
       "</tbody>\n",
       "</table>\n"
      ],
      "text/latex": [
       "A data.frame: 5 × 5\n",
       "\\begin{tabular}{r|lllll}\n",
       "  & TCGA-05-4244 & TCGA-05-4249 & TCGA-05-4250 & TCGA-05-4382 & TCGA-05-4384\\\\\n",
       "  & <dbl> & <dbl> & <dbl> & <dbl> & <dbl>\\\\\n",
       "\\hline\n",
       "\tA1BG &   26.0302 &   120.1350 &    50.8597 &   145.904 &   127.3670\\\\\n",
       "\tA1CF &    0.0000 &     0.3220 &     0.0000 &     0.000 &     0.0000\\\\\n",
       "\tA2BP1 &    1.7454 &     1.6098 &     0.0000 &     0.000 &     0.0000\\\\\n",
       "\tA2LD1 &  135.5020 &    89.0629 &   151.1330 &   112.069 &    87.5748\\\\\n",
       "\tA2M & 9844.7900 & 25712.7000 & 16943.6000 & 23326.300 & 48314.6000\\\\\n",
       "\\end{tabular}\n"
      ],
      "text/markdown": [
       "\n",
       "A data.frame: 5 × 5\n",
       "\n",
       "| <!--/--> | TCGA-05-4244 &lt;dbl&gt; | TCGA-05-4249 &lt;dbl&gt; | TCGA-05-4250 &lt;dbl&gt; | TCGA-05-4382 &lt;dbl&gt; | TCGA-05-4384 &lt;dbl&gt; |\n",
       "|---|---|---|---|---|---|\n",
       "| A1BG |   26.0302 |   120.1350 |    50.8597 |   145.904 |   127.3670 |\n",
       "| A1CF |    0.0000 |     0.3220 |     0.0000 |     0.000 |     0.0000 |\n",
       "| A2BP1 |    1.7454 |     1.6098 |     0.0000 |     0.000 |     0.0000 |\n",
       "| A2LD1 |  135.5020 |    89.0629 |   151.1330 |   112.069 |    87.5748 |\n",
       "| A2M | 9844.7900 | 25712.7000 | 16943.6000 | 23326.300 | 48314.6000 |\n",
       "\n"
      ],
      "text/plain": [
       "      TCGA-05-4244 TCGA-05-4249 TCGA-05-4250 TCGA-05-4382 TCGA-05-4384\n",
       "A1BG    26.0302      120.1350      50.8597     145.904      127.3670  \n",
       "A1CF     0.0000        0.3220       0.0000       0.000        0.0000  \n",
       "A2BP1    1.7454        1.6098       0.0000       0.000        0.0000  \n",
       "A2LD1  135.5020       89.0629     151.1330     112.069       87.5748  \n",
       "A2M   9844.7900    25712.7000   16943.6000   23326.300    48314.6000  "
      ]
     },
     "metadata": {},
     "output_type": "display_data"
    }
   ],
   "source": [
    "# read gene expression\n",
    "gex <- read.csv(\"../1_processed/TCGA_lung_gex.csv\", row.names = 1)\n",
    "colnames(gex) <- gsub(\"\\\\.\", \"-\", colnames(gex))\n",
    "gex[1:5, 1:5]"
   ]
  },
  {
   "cell_type": "code",
   "execution_count": 4,
   "metadata": {
    "vscode": {
     "languageId": "r"
    }
   },
   "outputs": [],
   "source": [
    "write.gct <- function(df, outdir){\n",
    "    ncol <- ncol(df)\n",
    "    nrow <- nrow(df)\n",
    "    annot <- data.frame(NAME = rownames(df), Description = rownames(df))\n",
    "    df <- cbind(annot, df)\n",
    "    header <- as.data.frame(matrix(\"\", ncol = ncol(df), nrow = 2))\n",
    "    colnames(header) <- colnames(df)\n",
    "    header[3,] <- colnames(df)\n",
    "    header[1,1] <- \"#1.2\"\n",
    "    header[2,1] <- nrow\n",
    "    header[2,2] <- ncol\n",
    "    df <- rbind(header, df)\n",
    "    write.table(df, file = outdir, quote = F, row.names = F, col.names = F, sep = \"\\t\")\n",
    "}\n",
    "\n",
    "write.gct(\n",
    "    gex, \n",
    "    outdir = \"../1_processed/TCGA_lung_gex.gct\")"
   ]
  },
  {
   "cell_type": "code",
   "execution_count": 3,
   "metadata": {
    "vscode": {
     "languageId": "r"
    }
   },
   "outputs": [],
   "source": [
    "gs <- list()\n",
    "gs[[1]] <- read.csv(\"../2_metastatic_genes/TCGA_lung_univariate_lasso.txt\", header = F)[[1]]\n",
    "gs[[2]] <- read.csv(\"../2_metastatic_genes/TCGA_LUSC_univariate_lasso.txt\", header = F)[[1]]\n",
    "gs[[3]] <- read.csv(\"../2_metastatic_genes/TCGA_LUAD_univariate_lasso.txt\", header = F)[[1]]\n",
    "names(gs) <- c(\"lung\", \"LUSC\", \"LUAD\")"
   ]
  },
  {
   "cell_type": "code",
   "execution_count": 4,
   "metadata": {
    "vscode": {
     "languageId": "r"
    }
   },
   "outputs": [],
   "source": [
    "write.gmt <- function(genelist, file) {\n",
    "  file_conn <- file(file, open = \"wt\")\n",
    "  for (set_name in names(genelist)) {\n",
    "    line <- c(set_name, set_name, genelist[[set_name]])\n",
    "    writeLines(paste(line, collapse = \"\\t\"), file_conn)}\n",
    "  close(file_conn)}\n",
    "\n",
    "write.gmt(gs, \"../2_metastatic_genes/metastatic_gene_list.gmt\")"
   ]
  },
  {
   "cell_type": "markdown",
   "metadata": {
    "vscode": {
     "languageId": "r"
    }
   },
   "source": [
    "## Perform ssGSEA"
   ]
  },
  {
   "cell_type": "code",
   "execution_count": 5,
   "metadata": {
    "vscode": {
     "languageId": "r"
    }
   },
   "outputs": [],
   "source": [
    "library(ssGSEA2)"
   ]
  },
  {
   "cell_type": "code",
   "execution_count": 6,
   "metadata": {
    "vscode": {
     "languageId": "r"
    }
   },
   "outputs": [
    {
     "name": "stderr",
     "output_type": "stream",
     "text": [
      "parsing as GCT v1.2\n",
      "\n",
      "../1_processed/TCGA_lung_gex.gct 20501 rows, 1017 cols, 0 row descriptors, 0 col descriptors\n",
      "\n"
     ]
    },
    {
     "name": "stdout",
     "output_type": "stream",
     "text": [
      "lung   33.33333 %\n",
      "LUSC   66.66667 %\n",
      "LUAD   100 %\n",
      "main loop: 1.832375 \n",
      "Saving file to  ../3_classification/signature_gct/lung_n1017x151.gct \n",
      "Dimensions of matrix: [151x1017]\n",
      "Setting precision to 4\n",
      "Saved.\n",
      "Saving file to  ../3_classification/signature_gct/LUSC_n1017x97.gct \n",
      "Dimensions of matrix: [97x1017]\n",
      "Setting precision to 4\n",
      "Saved.\n",
      "Saving file to  ../3_classification/signature_gct/LUAD_n1017x110.gct \n",
      "Dimensions of matrix: [110x1017]\n",
      "Setting precision to 4\n",
      "Saved.\n",
      "[1] \"Total gene sets: 3\"\n",
      "[1] \"Unique gene sets: 3\"\n",
      "Saving file to  ../3_classification/ssGSEA-scores.gct \n",
      "Dimensions of matrix: [3x1017]\n",
      "Setting precision to 4\n",
      "Saved.\n",
      "Saving file to  ../3_classification/ssGSEA-pvalues.gct \n",
      "Dimensions of matrix: [3x1017]\n",
      "Setting precision to 4\n",
      "Saved.\n",
      "Saving file to  ../3_classification/ssGSEA-fdr-pvalues.gct \n",
      "Dimensions of matrix: [3x1017]\n",
      "Setting precision to 4\n",
      "Saved.\n",
      "Saving file to  ../3_classification/ssGSEA-combined.gct \n",
      "Dimensions of matrix: [3x1017]\n",
      "Setting precision to 4\n",
      "Saved.\n"
     ]
    }
   ],
   "source": [
    "res = run_ssGSEA2(\n",
    "    \"../1_processed/TCGA_lung_gex.gct\",\n",
    "    output.prefix = \"ssGSEA\",\n",
    "    gene.set.databases = \"../2_metastatic_genes/metastatic_gene_list.gmt\",\n",
    "    output.directory = \"../3_classification\",\n",
    "    sample.norm.type = \"none\", \n",
    "    weight = 0.75, \n",
    "    correl.type = \"rank\", \n",
    "    statistic = \"area.under.RES\",\n",
    "    output.score.type = \"NES\", \n",
    "    nperm = 1000, \n",
    "    min.overlap = 2, \n",
    "    extended.output = F, \n",
    "    global.fdr = FALSE,\n",
    "    log.file = \"../3_classification/ssGSEA.log\")"
   ]
  },
  {
   "cell_type": "markdown",
   "metadata": {
    "vscode": {
     "languageId": "r"
    }
   },
   "source": [
    "## Combine ssGSEA with survival"
   ]
  },
  {
   "cell_type": "code",
   "execution_count": 37,
   "metadata": {
    "vscode": {
     "languageId": "r"
    }
   },
   "outputs": [
    {
     "data": {
      "text/html": [
       "<table class=\"dataframe\">\n",
       "<caption>A matrix: 6 × 3 of type dbl</caption>\n",
       "<thead>\n",
       "\t<tr><th></th><th scope=col>lung</th><th scope=col>LUSC</th><th scope=col>LUAD</th></tr>\n",
       "</thead>\n",
       "<tbody>\n",
       "\t<tr><th scope=row>TCGA-05-4244</th><td>8.5002</td><td>6.2464</td><td>5.3847</td></tr>\n",
       "\t<tr><th scope=row>TCGA-05-4249</th><td>7.4015</td><td>6.3764</td><td>5.0068</td></tr>\n",
       "\t<tr><th scope=row>TCGA-05-4250</th><td>8.0044</td><td>6.8932</td><td>5.9218</td></tr>\n",
       "\t<tr><th scope=row>TCGA-05-4382</th><td>7.6315</td><td>6.2107</td><td>5.2858</td></tr>\n",
       "\t<tr><th scope=row>TCGA-05-4384</th><td>8.0361</td><td>6.3106</td><td>6.1525</td></tr>\n",
       "\t<tr><th scope=row>TCGA-05-4389</th><td>7.8553</td><td>6.4251</td><td>5.6181</td></tr>\n",
       "</tbody>\n",
       "</table>\n"
      ],
      "text/latex": [
       "A matrix: 6 × 3 of type dbl\n",
       "\\begin{tabular}{r|lll}\n",
       "  & lung & LUSC & LUAD\\\\\n",
       "\\hline\n",
       "\tTCGA-05-4244 & 8.5002 & 6.2464 & 5.3847\\\\\n",
       "\tTCGA-05-4249 & 7.4015 & 6.3764 & 5.0068\\\\\n",
       "\tTCGA-05-4250 & 8.0044 & 6.8932 & 5.9218\\\\\n",
       "\tTCGA-05-4382 & 7.6315 & 6.2107 & 5.2858\\\\\n",
       "\tTCGA-05-4384 & 8.0361 & 6.3106 & 6.1525\\\\\n",
       "\tTCGA-05-4389 & 7.8553 & 6.4251 & 5.6181\\\\\n",
       "\\end{tabular}\n"
      ],
      "text/markdown": [
       "\n",
       "A matrix: 6 × 3 of type dbl\n",
       "\n",
       "| <!--/--> | lung | LUSC | LUAD |\n",
       "|---|---|---|---|\n",
       "| TCGA-05-4244 | 8.5002 | 6.2464 | 5.3847 |\n",
       "| TCGA-05-4249 | 7.4015 | 6.3764 | 5.0068 |\n",
       "| TCGA-05-4250 | 8.0044 | 6.8932 | 5.9218 |\n",
       "| TCGA-05-4382 | 7.6315 | 6.2107 | 5.2858 |\n",
       "| TCGA-05-4384 | 8.0361 | 6.3106 | 6.1525 |\n",
       "| TCGA-05-4389 | 7.8553 | 6.4251 | 5.6181 |\n",
       "\n"
      ],
      "text/plain": [
       "             lung   LUSC   LUAD  \n",
       "TCGA-05-4244 8.5002 6.2464 5.3847\n",
       "TCGA-05-4249 7.4015 6.3764 5.0068\n",
       "TCGA-05-4250 8.0044 6.8932 5.9218\n",
       "TCGA-05-4382 7.6315 6.2107 5.2858\n",
       "TCGA-05-4384 8.0361 6.3106 6.1525\n",
       "TCGA-05-4389 7.8553 6.4251 5.6181"
      ]
     },
     "metadata": {},
     "output_type": "display_data"
    }
   ],
   "source": [
    "ssgsea <- read.csv(\"../3_classification/ssGSEA-scores.gct\", row.names = 1, skip = 2, sep = \"\\t\")[,-c(1,2)]\n",
    "colnames(ssgsea) <- gsub(\"\\\\.\", \"-\", colnames(ssgsea))\n",
    "ssgsea <- t(ssgsea)\n",
    "head(ssgsea)"
   ]
  },
  {
   "cell_type": "code",
   "execution_count": 38,
   "metadata": {
    "vscode": {
     "languageId": "r"
    }
   },
   "outputs": [
    {
     "data": {
      "text/html": [
       "<table class=\"dataframe\">\n",
       "<caption>A data.frame: 6 × 21</caption>\n",
       "<thead>\n",
       "\t<tr><th></th><th scope=col>type</th><th scope=col>PFI_1</th><th scope=col>PFI_time_1</th><th scope=col>PFI_2</th><th scope=col>PFI_time_2</th><th scope=col>PFS</th><th scope=col>PFS_time</th><th scope=col>DSS_cr</th><th scope=col>DSS_time_cr</th><th scope=col>DFI_cr</th><th scope=col>⋯</th><th scope=col>PFI_cr</th><th scope=col>PFI_time_cr</th><th scope=col>PFI_1_cr</th><th scope=col>PFI_time_1_cr</th><th scope=col>PFI_2_cr</th><th scope=col>PFI_time_2_cr</th><th scope=col>PFI</th><th scope=col>lung</th><th scope=col>LUSC</th><th scope=col>LUAD</th></tr>\n",
       "\t<tr><th></th><th scope=col>&lt;chr&gt;</th><th scope=col>&lt;dbl&gt;</th><th scope=col>&lt;dbl&gt;</th><th scope=col>&lt;int&gt;</th><th scope=col>&lt;int&gt;</th><th scope=col>&lt;int&gt;</th><th scope=col>&lt;int&gt;</th><th scope=col>&lt;int&gt;</th><th scope=col>&lt;int&gt;</th><th scope=col>&lt;int&gt;</th><th scope=col>⋯</th><th scope=col>&lt;int&gt;</th><th scope=col>&lt;int&gt;</th><th scope=col>&lt;int&gt;</th><th scope=col>&lt;int&gt;</th><th scope=col>&lt;int&gt;</th><th scope=col>&lt;int&gt;</th><th scope=col>&lt;Surv&gt;</th><th scope=col>&lt;dbl&gt;</th><th scope=col>&lt;dbl&gt;</th><th scope=col>&lt;dbl&gt;</th></tr>\n",
       "</thead>\n",
       "<tbody>\n",
       "\t<tr><th scope=row>TCGA-05-4249</th><td>LUAD</td><td>0</td><td>4.1697467</td><td> 0</td><td>1523</td><td>0</td><td>1523</td><td> 0</td><td>1523</td><td>NA</td><td>⋯</td><td>0</td><td>1523</td><td>0</td><td>1523</td><td> 0</td><td>1523</td><td>4.1697467, 0</td><td>7.4015</td><td>6.3764</td><td>5.0068</td></tr>\n",
       "\t<tr><th scope=row>TCGA-05-4250</th><td>LUAD</td><td>0</td><td>0.3312799</td><td> 0</td><td> 121</td><td>1</td><td> 121</td><td>NA</td><td> 121</td><td>NA</td><td>⋯</td><td>2</td><td> 121</td><td>2</td><td> 121</td><td> 2</td><td> 121</td><td>0.3312799, 0</td><td>8.0044</td><td>6.8932</td><td>5.9218</td></tr>\n",
       "\t<tr><th scope=row>TCGA-05-4382</th><td>LUAD</td><td>1</td><td>0.9144422</td><td> 1</td><td> 334</td><td>1</td><td> 334</td><td> 0</td><td> 607</td><td> 1</td><td>⋯</td><td>1</td><td> 334</td><td>1</td><td> 334</td><td> 1</td><td> 334</td><td>0.9144422, 1</td><td>7.6315</td><td>6.2107</td><td>5.2858</td></tr>\n",
       "\t<tr><th scope=row>TCGA-05-4384</th><td>LUAD</td><td>1</td><td>0.5010267</td><td> 1</td><td> 183</td><td>1</td><td> 183</td><td> 0</td><td> 426</td><td>NA</td><td>⋯</td><td>1</td><td> 183</td><td>1</td><td> 183</td><td> 1</td><td> 183</td><td>0.5010267, 1</td><td>8.0361</td><td>6.3106</td><td>6.1525</td></tr>\n",
       "\t<tr><th scope=row>TCGA-05-4389</th><td>LUAD</td><td>0</td><td>3.7481177</td><td> 0</td><td>1369</td><td>0</td><td>1369</td><td> 0</td><td>1369</td><td>NA</td><td>⋯</td><td>0</td><td>1369</td><td>0</td><td>1369</td><td> 0</td><td>1369</td><td>3.7481177, 0</td><td>7.8553</td><td>6.4251</td><td>5.6181</td></tr>\n",
       "\t<tr><th scope=row>TCGA-05-4390</th><td>LUAD</td><td>1</td><td>1.0814511</td><td>NA</td><td>  NA</td><td>1</td><td> 395</td><td> 0</td><td>1126</td><td>NA</td><td>⋯</td><td>1</td><td> 395</td><td>1</td><td> 395</td><td>NA</td><td>  NA</td><td>1.0814511, 1</td><td>8.8213</td><td>6.5057</td><td>5.7669</td></tr>\n",
       "</tbody>\n",
       "</table>\n"
      ],
      "text/latex": [
       "A data.frame: 6 × 21\n",
       "\\begin{tabular}{r|lllllllllllllllllllll}\n",
       "  & type & PFI\\_1 & PFI\\_time\\_1 & PFI\\_2 & PFI\\_time\\_2 & PFS & PFS\\_time & DSS\\_cr & DSS\\_time\\_cr & DFI\\_cr & ⋯ & PFI\\_cr & PFI\\_time\\_cr & PFI\\_1\\_cr & PFI\\_time\\_1\\_cr & PFI\\_2\\_cr & PFI\\_time\\_2\\_cr & PFI & lung & LUSC & LUAD\\\\\n",
       "  & <chr> & <dbl> & <dbl> & <int> & <int> & <int> & <int> & <int> & <int> & <int> & ⋯ & <int> & <int> & <int> & <int> & <int> & <int> & <Surv> & <dbl> & <dbl> & <dbl>\\\\\n",
       "\\hline\n",
       "\tTCGA-05-4249 & LUAD & 0 & 4.1697467 &  0 & 1523 & 0 & 1523 &  0 & 1523 & NA & ⋯ & 0 & 1523 & 0 & 1523 &  0 & 1523 & 4.1697467, 0 & 7.4015 & 6.3764 & 5.0068\\\\\n",
       "\tTCGA-05-4250 & LUAD & 0 & 0.3312799 &  0 &  121 & 1 &  121 & NA &  121 & NA & ⋯ & 2 &  121 & 2 &  121 &  2 &  121 & 0.3312799, 0 & 8.0044 & 6.8932 & 5.9218\\\\\n",
       "\tTCGA-05-4382 & LUAD & 1 & 0.9144422 &  1 &  334 & 1 &  334 &  0 &  607 &  1 & ⋯ & 1 &  334 & 1 &  334 &  1 &  334 & 0.9144422, 1 & 7.6315 & 6.2107 & 5.2858\\\\\n",
       "\tTCGA-05-4384 & LUAD & 1 & 0.5010267 &  1 &  183 & 1 &  183 &  0 &  426 & NA & ⋯ & 1 &  183 & 1 &  183 &  1 &  183 & 0.5010267, 1 & 8.0361 & 6.3106 & 6.1525\\\\\n",
       "\tTCGA-05-4389 & LUAD & 0 & 3.7481177 &  0 & 1369 & 0 & 1369 &  0 & 1369 & NA & ⋯ & 0 & 1369 & 0 & 1369 &  0 & 1369 & 3.7481177, 0 & 7.8553 & 6.4251 & 5.6181\\\\\n",
       "\tTCGA-05-4390 & LUAD & 1 & 1.0814511 & NA &   NA & 1 &  395 &  0 & 1126 & NA & ⋯ & 1 &  395 & 1 &  395 & NA &   NA & 1.0814511, 1 & 8.8213 & 6.5057 & 5.7669\\\\\n",
       "\\end{tabular}\n"
      ],
      "text/markdown": [
       "\n",
       "A data.frame: 6 × 21\n",
       "\n",
       "| <!--/--> | type &lt;chr&gt; | PFI_1 &lt;dbl&gt; | PFI_time_1 &lt;dbl&gt; | PFI_2 &lt;int&gt; | PFI_time_2 &lt;int&gt; | PFS &lt;int&gt; | PFS_time &lt;int&gt; | DSS_cr &lt;int&gt; | DSS_time_cr &lt;int&gt; | DFI_cr &lt;int&gt; | ⋯ ⋯ | PFI_cr &lt;int&gt; | PFI_time_cr &lt;int&gt; | PFI_1_cr &lt;int&gt; | PFI_time_1_cr &lt;int&gt; | PFI_2_cr &lt;int&gt; | PFI_time_2_cr &lt;int&gt; | PFI &lt;Surv&gt; | lung &lt;dbl&gt; | LUSC &lt;dbl&gt; | LUAD &lt;dbl&gt; |\n",
       "|---|---|---|---|---|---|---|---|---|---|---|---|---|---|---|---|---|---|---|---|---|---|\n",
       "| TCGA-05-4249 | LUAD | 0 | 4.1697467 |  0 | 1523 | 0 | 1523 |  0 | 1523 | NA | ⋯ | 0 | 1523 | 0 | 1523 |  0 | 1523 | 4.1697467, 0 | 7.4015 | 6.3764 | 5.0068 |\n",
       "| TCGA-05-4250 | LUAD | 0 | 0.3312799 |  0 |  121 | 1 |  121 | NA |  121 | NA | ⋯ | 2 |  121 | 2 |  121 |  2 |  121 | 0.3312799, 0 | 8.0044 | 6.8932 | 5.9218 |\n",
       "| TCGA-05-4382 | LUAD | 1 | 0.9144422 |  1 |  334 | 1 |  334 |  0 |  607 |  1 | ⋯ | 1 |  334 | 1 |  334 |  1 |  334 | 0.9144422, 1 | 7.6315 | 6.2107 | 5.2858 |\n",
       "| TCGA-05-4384 | LUAD | 1 | 0.5010267 |  1 |  183 | 1 |  183 |  0 |  426 | NA | ⋯ | 1 |  183 | 1 |  183 |  1 |  183 | 0.5010267, 1 | 8.0361 | 6.3106 | 6.1525 |\n",
       "| TCGA-05-4389 | LUAD | 0 | 3.7481177 |  0 | 1369 | 0 | 1369 |  0 | 1369 | NA | ⋯ | 0 | 1369 | 0 | 1369 |  0 | 1369 | 3.7481177, 0 | 7.8553 | 6.4251 | 5.6181 |\n",
       "| TCGA-05-4390 | LUAD | 1 | 1.0814511 | NA |   NA | 1 |  395 |  0 | 1126 | NA | ⋯ | 1 |  395 | 1 |  395 | NA |   NA | 1.0814511, 1 | 8.8213 | 6.5057 | 5.7669 |\n",
       "\n"
      ],
      "text/plain": [
       "             type PFI_1 PFI_time_1 PFI_2 PFI_time_2 PFS PFS_time DSS_cr\n",
       "TCGA-05-4249 LUAD 0     4.1697467   0    1523       0   1523      0    \n",
       "TCGA-05-4250 LUAD 0     0.3312799   0     121       1    121     NA    \n",
       "TCGA-05-4382 LUAD 1     0.9144422   1     334       1    334      0    \n",
       "TCGA-05-4384 LUAD 1     0.5010267   1     183       1    183      0    \n",
       "TCGA-05-4389 LUAD 0     3.7481177   0    1369       0   1369      0    \n",
       "TCGA-05-4390 LUAD 1     1.0814511  NA      NA       1    395      0    \n",
       "             DSS_time_cr DFI_cr ⋯ PFI_cr PFI_time_cr PFI_1_cr PFI_time_1_cr\n",
       "TCGA-05-4249 1523        NA     ⋯ 0      1523        0        1523         \n",
       "TCGA-05-4250  121        NA     ⋯ 2       121        2         121         \n",
       "TCGA-05-4382  607         1     ⋯ 1       334        1         334         \n",
       "TCGA-05-4384  426        NA     ⋯ 1       183        1         183         \n",
       "TCGA-05-4389 1369        NA     ⋯ 0      1369        0        1369         \n",
       "TCGA-05-4390 1126        NA     ⋯ 1       395        1         395         \n",
       "             PFI_2_cr PFI_time_2_cr PFI          lung   LUSC   LUAD  \n",
       "TCGA-05-4249  0       1523          4.1697467, 0 7.4015 6.3764 5.0068\n",
       "TCGA-05-4250  2        121          0.3312799, 0 8.0044 6.8932 5.9218\n",
       "TCGA-05-4382  1        334          0.9144422, 1 7.6315 6.2107 5.2858\n",
       "TCGA-05-4384  1        183          0.5010267, 1 8.0361 6.3106 6.1525\n",
       "TCGA-05-4389  0       1369          3.7481177, 0 7.8553 6.4251 5.6181\n",
       "TCGA-05-4390 NA         NA          1.0814511, 1 8.8213 6.5057 5.7669"
      ]
     },
     "metadata": {},
     "output_type": "display_data"
    }
   ],
   "source": [
    "# read survival data\n",
    "surv <- read.csv(\"../1_processed/TCGA_lung_survival.csv\", row.names = 1)\n",
    "colnames(surv) <- gsub(\"\\\\.\", \"_\", colnames(surv))\n",
    "\n",
    "# remove time < 0 or NA\n",
    "surv <- surv %>% filter(!is.na(PFI_time_1))\n",
    "surv$PFI_time_1 <- as.numeric(surv$PFI_time_1)/365.25\n",
    "surv$PFI_1 <- as.numeric(surv$PFI_1)\n",
    "\n",
    "# set max PFI to 10 years\n",
    "surv$PFI_1 <- ifelse(surv$PFI_time_1 > 10, 0, surv$PFI_1)\n",
    "surv$PFI_time_1 <- ifelse(surv$PFI_time_1 > 10, 10, surv$PFI_time_1)\n",
    "surv <- surv[surv$PFI_time_1 > 0, ]\n",
    "\n",
    "# create survival object\n",
    "surv$PFI <- Surv(surv$PFI_time_1, surv$PFI_1)\n",
    "surv <- cbind(surv, ssgsea[rownames(surv),,drop = F])\n",
    "head(surv)"
   ]
  },
  {
   "cell_type": "markdown",
   "metadata": {},
   "source": [
    "## LUSC\n",
    "Filter only LUSC patients and repeat with LUSC signatures."
   ]
  },
  {
   "cell_type": "code",
   "execution_count": 39,
   "metadata": {
    "vscode": {
     "languageId": "r"
    }
   },
   "outputs": [],
   "source": [
    "find_coxph_cutoff <- function(df, column, survival, set_cutoff = NULL, covariates = NULL, interquartile = T){\n",
    "\n",
    "    #split data at 200 intervals and find the cutoff with most significant difference in survival\n",
    "    if(length(covariates) > 0){\n",
    "        covariates_coxph <- paste0(\" + \", paste0(covariates, collapse = \" + \"))\n",
    "        print(paste0(\"set covariates ===> \", covariates_coxph))}\n",
    "    else{\n",
    "\t    covariates_coxph <- \"\"}\n",
    "    cutoff <- NULL\n",
    "\n",
    "    if(interquartile){\n",
    "        lower <- quantile(df[[column]])[[2]]\n",
    "        upper <- quantile(df[[column]])[[4]]}\n",
    "    else{\n",
    "        lower <- min(df[[column]])\n",
    "\tupper <- max(df[[column]])}\n",
    "\n",
    "    no <- nrow(df)\n",
    "\n",
    "    for (split in seq(lower, upper, length.out = 200)) {\n",
    "        df[[\"coxph\"]] <- ifelse(df[[column]] > split, \"High\", \"Low\")\n",
    "        df[[\"coxph\"]] <- factor(df[[\"coxph\"]], levels = c(\"Low\", \"High\"))\n",
    "        remove <- any(table(df$coxph) < no / 20)\n",
    "        if (remove) {\n",
    "            next\n",
    "        }\n",
    "        surv.cox <- coxph(as.formula(paste0(survival, \" ~ coxph\", covariates_coxph)), data = df)\n",
    "        \n",
    "        # Extract HR and p-value\n",
    "        hr <- round(exp(coef(surv.cox))[1], 3)  # Hazard Ratio\n",
    "        logr <- round(summary(surv.cox)$coefficients[1, \"Pr(>|z|)\"], 3)  # p-value\n",
    "        \n",
    "        cutoff <- rbind(cutoff, c(split, hr, logr))\n",
    "        colnames(cutoff) <- c(\"cutoff\", \"HR\", \"logr\")\n",
    "    }\n",
    "\n",
    "\n",
    "    # use most significant cutoff to split data in \"High\" & \"Low\" groups\n",
    "    cutoff <- as.data.frame(cutoff) %>% arrange(logr)\n",
    "    if(length(set_cutoff) == 0){\n",
    "        threshold <- cutoff$cutoff[1]}\n",
    "    else if(length(set_cutoff) == 1){\n",
    "        threshold <- set_cutoff}\n",
    "    else{\n",
    "\terror(\"set_cutoff should be set to length of 1\")}\n",
    "    print(paste0(\"for <\", column, \">, cutoff is set at  ===> \", threshold))\n",
    "    df[[paste0(column, \"_coxph\")]] <- ifelse(df[[column]] > paste0(threshold), \"High\", \"Low\")\n",
    "    df[[paste0(column, \"_coxph\")]] <- factor(df[[paste0(column, \"_coxph\")]], levels=c(\"Low\", \"High\"))\n",
    "    df$coxph <- NULL\n",
    "    return(df)\n",
    "}\n"
   ]
  },
  {
   "cell_type": "code",
   "execution_count": 40,
   "metadata": {
    "vscode": {
     "languageId": "r"
    }
   },
   "outputs": [
    {
     "name": "stdout",
     "output_type": "stream",
     "text": [
      "[1] \"for <LUSC>, cutoff is set at  ===> 6.36844773869347\"\n"
     ]
    }
   ],
   "source": [
    "surv.LUSC <- surv %>% \n",
    "    filter(type == \"LUSC\")\n",
    "surv.LUSC <- find_coxph_cutoff(df = surv.LUSC, column = \"LUSC\", survival = \"PFI\", covariate = NULL, interquartile = T)"
   ]
  },
  {
   "cell_type": "code",
   "execution_count": 41,
   "metadata": {
    "vscode": {
     "languageId": "r"
    }
   },
   "outputs": [
    {
     "name": "stderr",
     "output_type": "stream",
     "text": [
      "Warning message:\n",
      "“\u001b[1m\u001b[22mThe `size` argument of `element_rect()` is deprecated as of ggplot2 3.4.0.\n",
      "\u001b[36mℹ\u001b[39m Please use the `linewidth` argument instead.”\n"
     ]
    },
    {
     "data": {
      "image/png": "[encoded data removed]",
      "text/plain": [
       "plot without title"
      ]
     },
     "metadata": {
      "image/png": {
       "height": 420,
       "width": 420
      }
     },
     "output_type": "display_data"
    }
   ],
   "source": [
    "p <- plot_survival(surv.LUSC, column = \"LUSC_coxph\", legend.title = \"LUSC\", survival = \"PFI\", palette = c(\"grey60\", \"grey1\"), conf.int = T, ylim = c(0, 1), ylab = \"Probability\", xlab = \"PFI (Years)\", pval.coord = c(0.1, 0.1))\n",
    "p"
   ]
  },
  {
   "cell_type": "code",
   "execution_count": 42,
   "metadata": {
    "vscode": {
     "languageId": "r"
    }
   },
   "outputs": [],
   "source": [
    "surv <- merge(surv, surv.LUSC[, c(\"LUSC_coxph\"), drop = F], by = 0, all.x = T) %>%\n",
    "    column_to_rownames(\"Row.names\")"
   ]
  },
  {
   "cell_type": "markdown",
   "metadata": {
    "vscode": {
     "languageId": "r"
    }
   },
   "source": [
    "## LUAD\n",
    "Filter only LUAD patients and repeat with LUSC signatures."
   ]
  },
  {
   "cell_type": "code",
   "execution_count": 43,
   "metadata": {
    "vscode": {
     "languageId": "r"
    }
   },
   "outputs": [],
   "source": [
    "find_coxph_cutoff <- function(df, column, survival, set_cutoff = NULL, covariates = NULL, interquartile = T){\n",
    "\n",
    "    #split data at 200 intervals and find the cutoff with most significant difference in survival\n",
    "    if(length(covariates) > 0){\n",
    "        covariates_coxph <- paste0(\" + \", paste0(covariates, collapse = \" + \"))\n",
    "        print(paste0(\"set covariates ===> \", covariates_coxph))}\n",
    "    else{\n",
    "\t    covariates_coxph <- \"\"}\n",
    "    cutoff <- NULL\n",
    "\n",
    "    if(interquartile){\n",
    "        lower <- quantile(df[[column]])[[2]]\n",
    "        upper <- quantile(df[[column]])[[4]]}\n",
    "    else{\n",
    "        lower <- min(df[[column]])\n",
    "\tupper <- max(df[[column]])}\n",
    "\n",
    "    no <- nrow(df)\n",
    "\n",
    "    for (split in seq(lower, upper, length.out = 200)) {\n",
    "        df[[\"coxph\"]] <- ifelse(df[[column]] > split, \"High\", \"Low\")\n",
    "        df[[\"coxph\"]] <- factor(df[[\"coxph\"]], levels = c(\"Low\", \"High\"))\n",
    "        remove <- any(table(df$coxph) < no / 20)\n",
    "        if (remove) {\n",
    "            next\n",
    "        }\n",
    "        surv.cox <- coxph(as.formula(paste0(survival, \" ~ coxph\", covariates_coxph)), data = df)\n",
    "        \n",
    "        # Extract HR and p-value\n",
    "        hr <- round(exp(coef(surv.cox))[1], 3)  # Hazard Ratio\n",
    "        logr <- round(summary(surv.cox)$coefficients[1, \"Pr(>|z|)\"], 3)  # p-value\n",
    "        \n",
    "        cutoff <- rbind(cutoff, c(split, hr, logr))\n",
    "        colnames(cutoff) <- c(\"cutoff\", \"HR\", \"logr\")\n",
    "    }\n",
    "\n",
    "\n",
    "    # use most significant cutoff to split data in \"High\" & \"Low\" groups\n",
    "    cutoff <- as.data.frame(cutoff) %>% arrange(logr)\n",
    "    if(length(set_cutoff) == 0){\n",
    "        threshold <- cutoff$cutoff[1]}\n",
    "    else if(length(set_cutoff) == 1){\n",
    "        threshold <- set_cutoff}\n",
    "    else{\n",
    "\terror(\"set_cutoff should be set to length of 1\")}\n",
    "    print(paste0(\"for <\", column, \">, cutoff is set at  ===> \", threshold))\n",
    "    df[[paste0(column, \"_coxph\")]] <- ifelse(df[[column]] > paste0(threshold), \"High\", \"Low\")\n",
    "    df[[paste0(column, \"_coxph\")]] <- factor(df[[paste0(column, \"_coxph\")]], levels=c(\"Low\", \"High\"))\n",
    "    df$coxph <- NULL\n",
    "    return(df)\n",
    "}\n"
   ]
  },
  {
   "cell_type": "code",
   "execution_count": 44,
   "metadata": {
    "vscode": {
     "languageId": "r"
    }
   },
   "outputs": [
    {
     "name": "stdout",
     "output_type": "stream",
     "text": [
      "[1] \"for <LUAD>, cutoff is set at  ===> 5.2353\"\n"
     ]
    }
   ],
   "source": [
    "surv.LUAD <- surv %>% \n",
    "    filter(type == \"LUAD\")\n",
    "surv.LUAD <- find_coxph_cutoff(df = surv.LUAD, column = \"LUAD\", survival = \"PFI\", covariate = NULL, interquartile = T)"
   ]
  },
  {
   "cell_type": "code",
   "execution_count": 45,
   "metadata": {
    "vscode": {
     "languageId": "r"
    }
   },
   "outputs": [
    {
     "data": {
      "text/html": [
       "<table class=\"dataframe\">\n",
       "<caption>A data.frame: 6 × 22</caption>\n",
       "<thead>\n",
       "\t<tr><th></th><th scope=col>type</th><th scope=col>PFI_1</th><th scope=col>PFI_time_1</th><th scope=col>PFI_2</th><th scope=col>PFI_time_2</th><th scope=col>PFS</th><th scope=col>PFS_time</th><th scope=col>DSS_cr</th><th scope=col>DSS_time_cr</th><th scope=col>DFI_cr</th><th scope=col>⋯</th><th scope=col>PFI_time_cr</th><th scope=col>PFI_1_cr</th><th scope=col>PFI_time_1_cr</th><th scope=col>PFI_2_cr</th><th scope=col>PFI_time_2_cr</th><th scope=col>PFI</th><th scope=col>lung</th><th scope=col>LUSC</th><th scope=col>LUAD</th><th scope=col>LUSC_coxph</th></tr>\n",
       "\t<tr><th></th><th scope=col>&lt;chr&gt;</th><th scope=col>&lt;dbl&gt;</th><th scope=col>&lt;dbl&gt;</th><th scope=col>&lt;int&gt;</th><th scope=col>&lt;int&gt;</th><th scope=col>&lt;int&gt;</th><th scope=col>&lt;int&gt;</th><th scope=col>&lt;int&gt;</th><th scope=col>&lt;int&gt;</th><th scope=col>&lt;int&gt;</th><th scope=col>⋯</th><th scope=col>&lt;int&gt;</th><th scope=col>&lt;int&gt;</th><th scope=col>&lt;int&gt;</th><th scope=col>&lt;int&gt;</th><th scope=col>&lt;int&gt;</th><th scope=col>&lt;Surv&gt;</th><th scope=col>&lt;dbl&gt;</th><th scope=col>&lt;dbl&gt;</th><th scope=col>&lt;dbl&gt;</th><th scope=col>&lt;fct&gt;</th></tr>\n",
       "</thead>\n",
       "<tbody>\n",
       "\t<tr><th scope=row>TCGA-05-4249</th><td>LUAD</td><td>0</td><td>4.1697467</td><td> 0</td><td>1523</td><td>0</td><td>1523</td><td> 0</td><td>1523</td><td>NA</td><td>⋯</td><td>1523</td><td>0</td><td>1523</td><td> 0</td><td>1523</td><td>4.1697467, 0</td><td>7.4015</td><td>6.3764</td><td>5.0068</td><td>NA</td></tr>\n",
       "\t<tr><th scope=row>TCGA-05-4250</th><td>LUAD</td><td>0</td><td>0.3312799</td><td> 0</td><td> 121</td><td>1</td><td> 121</td><td>NA</td><td> 121</td><td>NA</td><td>⋯</td><td> 121</td><td>2</td><td> 121</td><td> 2</td><td> 121</td><td>0.3312799, 0</td><td>8.0044</td><td>6.8932</td><td>5.9218</td><td>NA</td></tr>\n",
       "\t<tr><th scope=row>TCGA-05-4382</th><td>LUAD</td><td>1</td><td>0.9144422</td><td> 1</td><td> 334</td><td>1</td><td> 334</td><td> 0</td><td> 607</td><td> 1</td><td>⋯</td><td> 334</td><td>1</td><td> 334</td><td> 1</td><td> 334</td><td>0.9144422, 1</td><td>7.6315</td><td>6.2107</td><td>5.2858</td><td>NA</td></tr>\n",
       "\t<tr><th scope=row>TCGA-05-4384</th><td>LUAD</td><td>1</td><td>0.5010267</td><td> 1</td><td> 183</td><td>1</td><td> 183</td><td> 0</td><td> 426</td><td>NA</td><td>⋯</td><td> 183</td><td>1</td><td> 183</td><td> 1</td><td> 183</td><td>0.5010267, 1</td><td>8.0361</td><td>6.3106</td><td>6.1525</td><td>NA</td></tr>\n",
       "\t<tr><th scope=row>TCGA-05-4389</th><td>LUAD</td><td>0</td><td>3.7481177</td><td> 0</td><td>1369</td><td>0</td><td>1369</td><td> 0</td><td>1369</td><td>NA</td><td>⋯</td><td>1369</td><td>0</td><td>1369</td><td> 0</td><td>1369</td><td>3.7481177, 0</td><td>7.8553</td><td>6.4251</td><td>5.6181</td><td>NA</td></tr>\n",
       "\t<tr><th scope=row>TCGA-05-4390</th><td>LUAD</td><td>1</td><td>1.0814511</td><td>NA</td><td>  NA</td><td>1</td><td> 395</td><td> 0</td><td>1126</td><td>NA</td><td>⋯</td><td> 395</td><td>1</td><td> 395</td><td>NA</td><td>  NA</td><td>1.0814511, 1</td><td>8.8213</td><td>6.5057</td><td>5.7669</td><td>NA</td></tr>\n",
       "</tbody>\n",
       "</table>\n"
      ],
      "text/latex": [
       "A data.frame: 6 × 22\n",
       "\\begin{tabular}{r|lllllllllllllllllllll}\n",
       "  & type & PFI\\_1 & PFI\\_time\\_1 & PFI\\_2 & PFI\\_time\\_2 & PFS & PFS\\_time & DSS\\_cr & DSS\\_time\\_cr & DFI\\_cr & ⋯ & PFI\\_time\\_cr & PFI\\_1\\_cr & PFI\\_time\\_1\\_cr & PFI\\_2\\_cr & PFI\\_time\\_2\\_cr & PFI & lung & LUSC & LUAD & LUSC\\_coxph\\\\\n",
       "  & <chr> & <dbl> & <dbl> & <int> & <int> & <int> & <int> & <int> & <int> & <int> & ⋯ & <int> & <int> & <int> & <int> & <int> & <Surv> & <dbl> & <dbl> & <dbl> & <fct>\\\\\n",
       "\\hline\n",
       "\tTCGA-05-4249 & LUAD & 0 & 4.1697467 &  0 & 1523 & 0 & 1523 &  0 & 1523 & NA & ⋯ & 1523 & 0 & 1523 &  0 & 1523 & 4.1697467, 0 & 7.4015 & 6.3764 & 5.0068 & NA\\\\\n",
       "\tTCGA-05-4250 & LUAD & 0 & 0.3312799 &  0 &  121 & 1 &  121 & NA &  121 & NA & ⋯ &  121 & 2 &  121 &  2 &  121 & 0.3312799, 0 & 8.0044 & 6.8932 & 5.9218 & NA\\\\\n",
       "\tTCGA-05-4382 & LUAD & 1 & 0.9144422 &  1 &  334 & 1 &  334 &  0 &  607 &  1 & ⋯ &  334 & 1 &  334 &  1 &  334 & 0.9144422, 1 & 7.6315 & 6.2107 & 5.2858 & NA\\\\\n",
       "\tTCGA-05-4384 & LUAD & 1 & 0.5010267 &  1 &  183 & 1 &  183 &  0 &  426 & NA & ⋯ &  183 & 1 &  183 &  1 &  183 & 0.5010267, 1 & 8.0361 & 6.3106 & 6.1525 & NA\\\\\n",
       "\tTCGA-05-4389 & LUAD & 0 & 3.7481177 &  0 & 1369 & 0 & 1369 &  0 & 1369 & NA & ⋯ & 1369 & 0 & 1369 &  0 & 1369 & 3.7481177, 0 & 7.8553 & 6.4251 & 5.6181 & NA\\\\\n",
       "\tTCGA-05-4390 & LUAD & 1 & 1.0814511 & NA &   NA & 1 &  395 &  0 & 1126 & NA & ⋯ &  395 & 1 &  395 & NA &   NA & 1.0814511, 1 & 8.8213 & 6.5057 & 5.7669 & NA\\\\\n",
       "\\end{tabular}\n"
      ],
      "text/markdown": [
       "\n",
       "A data.frame: 6 × 22\n",
       "\n",
       "| <!--/--> | type &lt;chr&gt; | PFI_1 &lt;dbl&gt; | PFI_time_1 &lt;dbl&gt; | PFI_2 &lt;int&gt; | PFI_time_2 &lt;int&gt; | PFS &lt;int&gt; | PFS_time &lt;int&gt; | DSS_cr &lt;int&gt; | DSS_time_cr &lt;int&gt; | DFI_cr &lt;int&gt; | ⋯ ⋯ | PFI_time_cr &lt;int&gt; | PFI_1_cr &lt;int&gt; | PFI_time_1_cr &lt;int&gt; | PFI_2_cr &lt;int&gt; | PFI_time_2_cr &lt;int&gt; | PFI &lt;Surv&gt; | lung &lt;dbl&gt; | LUSC &lt;dbl&gt; | LUAD &lt;dbl&gt; | LUSC_coxph &lt;fct&gt; |\n",
       "|---|---|---|---|---|---|---|---|---|---|---|---|---|---|---|---|---|---|---|---|---|---|\n",
       "| TCGA-05-4249 | LUAD | 0 | 4.1697467 |  0 | 1523 | 0 | 1523 |  0 | 1523 | NA | ⋯ | 1523 | 0 | 1523 |  0 | 1523 | 4.1697467, 0 | 7.4015 | 6.3764 | 5.0068 | NA |\n",
       "| TCGA-05-4250 | LUAD | 0 | 0.3312799 |  0 |  121 | 1 |  121 | NA |  121 | NA | ⋯ |  121 | 2 |  121 |  2 |  121 | 0.3312799, 0 | 8.0044 | 6.8932 | 5.9218 | NA |\n",
       "| TCGA-05-4382 | LUAD | 1 | 0.9144422 |  1 |  334 | 1 |  334 |  0 |  607 |  1 | ⋯ |  334 | 1 |  334 |  1 |  334 | 0.9144422, 1 | 7.6315 | 6.2107 | 5.2858 | NA |\n",
       "| TCGA-05-4384 | LUAD | 1 | 0.5010267 |  1 |  183 | 1 |  183 |  0 |  426 | NA | ⋯ |  183 | 1 |  183 |  1 |  183 | 0.5010267, 1 | 8.0361 | 6.3106 | 6.1525 | NA |\n",
       "| TCGA-05-4389 | LUAD | 0 | 3.7481177 |  0 | 1369 | 0 | 1369 |  0 | 1369 | NA | ⋯ | 1369 | 0 | 1369 |  0 | 1369 | 3.7481177, 0 | 7.8553 | 6.4251 | 5.6181 | NA |\n",
       "| TCGA-05-4390 | LUAD | 1 | 1.0814511 | NA |   NA | 1 |  395 |  0 | 1126 | NA | ⋯ |  395 | 1 |  395 | NA |   NA | 1.0814511, 1 | 8.8213 | 6.5057 | 5.7669 | NA |\n",
       "\n"
      ],
      "text/plain": [
       "             type PFI_1 PFI_time_1 PFI_2 PFI_time_2 PFS PFS_time DSS_cr\n",
       "TCGA-05-4249 LUAD 0     4.1697467   0    1523       0   1523      0    \n",
       "TCGA-05-4250 LUAD 0     0.3312799   0     121       1    121     NA    \n",
       "TCGA-05-4382 LUAD 1     0.9144422   1     334       1    334      0    \n",
       "TCGA-05-4384 LUAD 1     0.5010267   1     183       1    183      0    \n",
       "TCGA-05-4389 LUAD 0     3.7481177   0    1369       0   1369      0    \n",
       "TCGA-05-4390 LUAD 1     1.0814511  NA      NA       1    395      0    \n",
       "             DSS_time_cr DFI_cr ⋯ PFI_time_cr PFI_1_cr PFI_time_1_cr PFI_2_cr\n",
       "TCGA-05-4249 1523        NA     ⋯ 1523        0        1523           0      \n",
       "TCGA-05-4250  121        NA     ⋯  121        2         121           2      \n",
       "TCGA-05-4382  607         1     ⋯  334        1         334           1      \n",
       "TCGA-05-4384  426        NA     ⋯  183        1         183           1      \n",
       "TCGA-05-4389 1369        NA     ⋯ 1369        0        1369           0      \n",
       "TCGA-05-4390 1126        NA     ⋯  395        1         395          NA      \n",
       "             PFI_time_2_cr PFI          lung   LUSC   LUAD   LUSC_coxph\n",
       "TCGA-05-4249 1523          4.1697467, 0 7.4015 6.3764 5.0068 NA        \n",
       "TCGA-05-4250  121          0.3312799, 0 8.0044 6.8932 5.9218 NA        \n",
       "TCGA-05-4382  334          0.9144422, 1 7.6315 6.2107 5.2858 NA        \n",
       "TCGA-05-4384  183          0.5010267, 1 8.0361 6.3106 6.1525 NA        \n",
       "TCGA-05-4389 1369          3.7481177, 0 7.8553 6.4251 5.6181 NA        \n",
       "TCGA-05-4390   NA          1.0814511, 1 8.8213 6.5057 5.7669 NA        "
      ]
     },
     "metadata": {},
     "output_type": "display_data"
    }
   ],
   "source": [
    "head(surv)"
   ]
  },
  {
   "cell_type": "code",
   "execution_count": 46,
   "metadata": {
    "vscode": {
     "languageId": "r"
    }
   },
   "outputs": [],
   "source": [
    "plot_survival <- function(df, column, survival, palette = NULL, ...){\n",
    "    if(!(column %in% colnames(df))){\n",
    "\tmessage(paste0(\"<\", column, \"> not found in dataframe. Skipped\"))\n",
    "\tnext}\n",
    "\n",
    "    suppressMessages({\n",
    "    b <- as.formula(paste0(survival, \"~\", column))\n",
    "    fit <- eval(substitute(survfit(b, data = df, conf.type = \"log-log\"), list(b = b)))\n",
    "\n",
    "    if(length(names(fit$strata)) > 1){\n",
    "        names(fit$strata) <- gsub(\".*=\", \"\", names(fit$strata))\n",
    "        kmplot <- ggsurvplot(\n",
    "            fit,\n",
    "            data = df,\n",
    "            palette = palette,\n",
    "            risk.table = T,\n",
    "            pval = T,\n",
    "            risk.table.y.text.col = T,\n",
    "            risk.table.y.text = F,\n",
    "            legend = \"right\",\n",
    "            ...)\n",
    "            }\n",
    "    else{\n",
    "            kmplot <- NULL\n",
    "    }})\n",
    "    kmplot[[1]] <- kmplot[[1]] + theme(panel.border = element_rect(colour = \"black\", fill=NA, size=1.5))\n",
    "    kmplot[[2]] <- kmplot[[2]] + theme(panel.border = element_rect(colour = \"black\", fill=NA, size=1.5))\n",
    "    return(kmplot)}"
   ]
  },
  {
   "cell_type": "code",
   "execution_count": 47,
   "metadata": {
    "vscode": {
     "languageId": "r"
    }
   },
   "outputs": [
    {
     "data": {
      "image/png": "[encoded data removed]",
      "text/plain": [
       "plot without title"
      ]
     },
     "metadata": {
      "image/png": {
       "height": 420,
       "width": 420
      }
     },
     "output_type": "display_data"
    }
   ],
   "source": [
    "p <- plot_survival(surv.LUAD, column = \"LUAD_coxph\", legend.title = \"LUAD\", survival = \"PFI\", palette = c(\"grey60\", \"grey1\"), conf.int = T, ylim = c(0, 1), ylab = \"Probability\", xlab = \"PFI (Years)\", pval.coord = c(0.1, 0.1))\n",
    "p"
   ]
  },
  {
   "cell_type": "code",
   "execution_count": 24,
   "metadata": {
    "vscode": {
     "languageId": "r"
    }
   },
   "outputs": [],
   "source": [
    "surv <- merge(surv, surv.LUAD[, c(\"LUAD_coxph\"), drop = F], by = 0, all.x = T) %>%\n",
    "    column_to_rownames(\"Row.names\")"
   ]
  },
  {
   "cell_type": "markdown",
   "metadata": {
    "vscode": {
     "languageId": "r"
    }
   },
   "source": [
    "## Save Output"
   ]
  },
  {
   "cell_type": "code",
   "execution_count": 33,
   "metadata": {
    "vscode": {
     "languageId": "r"
    }
   },
   "outputs": [
    {
     "data": {
      "text/html": [
       "<table class=\"dataframe\">\n",
       "<caption>A data.frame: 6 × 2</caption>\n",
       "<thead>\n",
       "\t<tr><th></th><th scope=col>LUSC_coxph</th><th scope=col>LUAD_coxph</th></tr>\n",
       "\t<tr><th></th><th scope=col>&lt;chr&gt;</th><th scope=col>&lt;chr&gt;</th></tr>\n",
       "</thead>\n",
       "<tbody>\n",
       "\t<tr><th scope=row>TCGA-05-4249</th><td>NA</td><td>0</td></tr>\n",
       "\t<tr><th scope=row>TCGA-05-4250</th><td>NA</td><td>1</td></tr>\n",
       "\t<tr><th scope=row>TCGA-05-4382</th><td>NA</td><td>1</td></tr>\n",
       "\t<tr><th scope=row>TCGA-05-4384</th><td>NA</td><td>1</td></tr>\n",
       "\t<tr><th scope=row>TCGA-05-4389</th><td>NA</td><td>1</td></tr>\n",
       "\t<tr><th scope=row>TCGA-05-4390</th><td>NA</td><td>1</td></tr>\n",
       "</tbody>\n",
       "</table>\n"
      ],
      "text/latex": [
       "A data.frame: 6 × 2\n",
       "\\begin{tabular}{r|ll}\n",
       "  & LUSC\\_coxph & LUAD\\_coxph\\\\\n",
       "  & <chr> & <chr>\\\\\n",
       "\\hline\n",
       "\tTCGA-05-4249 & NA & 0\\\\\n",
       "\tTCGA-05-4250 & NA & 1\\\\\n",
       "\tTCGA-05-4382 & NA & 1\\\\\n",
       "\tTCGA-05-4384 & NA & 1\\\\\n",
       "\tTCGA-05-4389 & NA & 1\\\\\n",
       "\tTCGA-05-4390 & NA & 1\\\\\n",
       "\\end{tabular}\n"
      ],
      "text/markdown": [
       "\n",
       "A data.frame: 6 × 2\n",
       "\n",
       "| <!--/--> | LUSC_coxph &lt;chr&gt; | LUAD_coxph &lt;chr&gt; |\n",
       "|---|---|---|\n",
       "| TCGA-05-4249 | NA | 0 |\n",
       "| TCGA-05-4250 | NA | 1 |\n",
       "| TCGA-05-4382 | NA | 1 |\n",
       "| TCGA-05-4384 | NA | 1 |\n",
       "| TCGA-05-4389 | NA | 1 |\n",
       "| TCGA-05-4390 | NA | 1 |\n",
       "\n"
      ],
      "text/plain": [
       "             LUSC_coxph LUAD_coxph\n",
       "TCGA-05-4249 NA         0         \n",
       "TCGA-05-4250 NA         1         \n",
       "TCGA-05-4382 NA         1         \n",
       "TCGA-05-4384 NA         1         \n",
       "TCGA-05-4389 NA         1         \n",
       "TCGA-05-4390 NA         1         "
      ]
     },
     "metadata": {},
     "output_type": "display_data"
    }
   ],
   "source": [
    "class <- surv[,c(\"LUSC_coxph\", \"LUAD_coxph\"), drop = F]\n",
    "for(c in 1:ncol(class)){\n",
    "    class[,c] <- as.character(class[,c])}\n",
    "class[class == \"High\"] <- 1\n",
    "class[class == \"Low\"] <- 0\n",
    "head(class)\n",
    "\n",
    "write.csv(class, \"../3_classification/TCGA_metastatic_classification.csv\", quote = F)"
   ]
  }
 ],
 "metadata": {
  "kernelspec": {
   "display_name": "R",
   "language": "R",
   "name": "ir"
  },
  "language_info": {
   "codemirror_mode": "r",
   "file_extension": ".r",
   "mimetype": "text/x-r-source",
   "name": "R",
   "pygments_lexer": "r",
   "version": "4.3.2"
  }
 },
 "nbformat": 4,
 "nbformat_minor": 2
}
